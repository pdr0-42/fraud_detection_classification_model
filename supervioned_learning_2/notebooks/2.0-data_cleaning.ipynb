{
 "cells": [
  {
   "cell_type": "markdown",
   "metadata": {},
   "source": [
    "# Data Cleaning"
   ]
  },
  {
   "cell_type": "code",
   "execution_count": 1,
   "metadata": {},
   "outputs": [],
   "source": [
    "import pandas as pd"
   ]
  },
  {
   "cell_type": "code",
   "execution_count": 2,
   "metadata": {},
   "outputs": [],
   "source": [
    "df = pd.read_csv(\"../data/raw/creditcard_2023.csv\")"
   ]
  },
  {
   "cell_type": "code",
   "execution_count": 4,
   "metadata": {},
   "outputs": [],
   "source": [
    "df = df.drop(columns=\"id\")"
   ]
  },
  {
   "cell_type": "code",
   "execution_count": 5,
   "metadata": {},
   "outputs": [
    {
     "data": {
      "text/plain": [
       "(568630, 30)"
      ]
     },
     "execution_count": 5,
     "metadata": {},
     "output_type": "execute_result"
    }
   ],
   "source": [
    "df.shape"
   ]
  },
  {
   "cell_type": "code",
   "execution_count": 6,
   "metadata": {},
   "outputs": [
    {
     "name": "stdout",
     "output_type": "stream",
     "text": [
      "<class 'pandas.core.frame.DataFrame'>\n",
      "RangeIndex: 568630 entries, 0 to 568629\n",
      "Data columns (total 30 columns):\n",
      " #   Column  Non-Null Count   Dtype  \n",
      "---  ------  --------------   -----  \n",
      " 0   V1      568630 non-null  float64\n",
      " 1   V2      568630 non-null  float64\n",
      " 2   V3      568630 non-null  float64\n",
      " 3   V4      568630 non-null  float64\n",
      " 4   V5      568630 non-null  float64\n",
      " 5   V6      568630 non-null  float64\n",
      " 6   V7      568630 non-null  float64\n",
      " 7   V8      568630 non-null  float64\n",
      " 8   V9      568630 non-null  float64\n",
      " 9   V10     568630 non-null  float64\n",
      " 10  V11     568630 non-null  float64\n",
      " 11  V12     568630 non-null  float64\n",
      " 12  V13     568630 non-null  float64\n",
      " 13  V14     568630 non-null  float64\n",
      " 14  V15     568630 non-null  float64\n",
      " 15  V16     568630 non-null  float64\n",
      " 16  V17     568630 non-null  float64\n",
      " 17  V18     568630 non-null  float64\n",
      " 18  V19     568630 non-null  float64\n",
      " 19  V20     568630 non-null  float64\n",
      " 20  V21     568630 non-null  float64\n",
      " 21  V22     568630 non-null  float64\n",
      " 22  V23     568630 non-null  float64\n",
      " 23  V24     568630 non-null  float64\n",
      " 24  V25     568630 non-null  float64\n",
      " 25  V26     568630 non-null  float64\n",
      " 26  V27     568630 non-null  float64\n",
      " 27  V28     568630 non-null  float64\n",
      " 28  Amount  568630 non-null  float64\n",
      " 29  Class   568630 non-null  int64  \n",
      "dtypes: float64(29), int64(1)\n",
      "memory usage: 130.1 MB\n"
     ]
    }
   ],
   "source": [
    "df.info()"
   ]
  },
  {
   "cell_type": "code",
   "execution_count": 7,
   "metadata": {},
   "outputs": [],
   "source": [
    "df.to_csv(\"data_cleaned.csv\", index= False)"
   ]
  }
 ],
 "metadata": {
  "kernelspec": {
   "display_name": "base",
   "language": "python",
   "name": "python3"
  },
  "language_info": {
   "codemirror_mode": {
    "name": "ipython",
    "version": 3
   },
   "file_extension": ".py",
   "mimetype": "text/x-python",
   "name": "python",
   "nbconvert_exporter": "python",
   "pygments_lexer": "ipython3",
   "version": "3.9.13"
  },
  "orig_nbformat": 4
 },
 "nbformat": 4,
 "nbformat_minor": 2
}
